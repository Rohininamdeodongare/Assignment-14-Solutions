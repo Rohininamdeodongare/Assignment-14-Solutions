{
 "cells": [
  {
   "cell_type": "code",
   "execution_count": null,
   "id": "da52bf95",
   "metadata": {},
   "outputs": [],
   "source": [
    "Q. 1. What does RGBA stand for?\n",
    "Answer:- The RGB color model is extended in this specification to \n",
    "    include “alpha” to allow specification of the opacity of a color."
   ]
  },
  {
   "cell_type": "code",
   "execution_count": null,
   "id": "7c7326a8",
   "metadata": {},
   "outputs": [],
   "source": [
    "Q.2. From the Pillow module, how do you get the RGBA value of any images?\n",
    "Answer:-\n",
    "    1)import the Image module from the Pillow library from PIL import Image.\n",
    "    2) Open any image and get the RAGBAG values. img = Image.open('image.png') \n",
    "    rgba = img.convert(“RGBA”) ...\n",
    "    3) Change the color. Data will be an Imaging Core object containing\n",
    "    thousands of tuples of RGBA values. ...\n",
    "    4) Store the changed imag"
   ]
  },
  {
   "cell_type": "code",
   "execution_count": null,
   "id": "739037b0",
   "metadata": {},
   "outputs": [],
   "source": [
    "Q.3. What is a box tuple, and how does it work?\n",
    "Answer:- Many of Pillow's functions and methods take \n",
    "    a box tuple argument. This means Pillow is expecting a\n",
    "    tuple of four integer coordinates that represent a rectangular\n",
    "    region in an image. The four integers are, in order, as follows: Left \n",
    "    The x-coordinate of the leftmost edge of the box.\n",
    "    Tuple. Tuples are used to store multiple items in a single variable.\n",
    "    Tuple is one of 4 built-in data types in Python used to store collections\n",
    "    of data, the other 3 are List, Set, and Dictionary, all with different \n",
    "    qualities and usage. A tuple is a collection which is ordered and unchangeable."
   ]
  },
  {
   "cell_type": "code",
   "execution_count": 2,
   "id": "2daa08f7",
   "metadata": {},
   "outputs": [
    {
     "ename": "FileNotFoundError",
     "evalue": "[Errno 2] No such file or directory: 'Pic.jpg'",
     "output_type": "error",
     "traceback": [
      "\u001b[1;31m---------------------------------------------------------------------------\u001b[0m",
      "\u001b[1;31mFileNotFoundError\u001b[0m                         Traceback (most recent call last)",
      "Input \u001b[1;32mIn [2]\u001b[0m, in \u001b[0;36m<cell line: 5>\u001b[1;34m()\u001b[0m\n\u001b[0;32m      1\u001b[0m \u001b[38;5;66;03m#Q.4. Use your image and load in notebook then, How can you find out the width and height of an Image object?\u001b[39;00m\n\u001b[0;32m      2\u001b[0m \u001b[38;5;66;03m#Answer:- open() is used to open the image and then . width and . height property of Image are used to get the height and width of the image.\u001b[39;00m\n\u001b[0;32m      3\u001b[0m \u001b[38;5;66;03m#Example Program\u001b[39;00m\n\u001b[0;32m      4\u001b[0m \u001b[38;5;28;01mfrom\u001b[39;00m \u001b[38;5;21;01mPIL\u001b[39;00m \u001b[38;5;28;01mimport\u001b[39;00m Image\n\u001b[1;32m----> 5\u001b[0m pic \u001b[38;5;241m=\u001b[39m \u001b[43mImage\u001b[49m\u001b[38;5;241;43m.\u001b[39;49m\u001b[43mopen\u001b[49m\u001b[43m(\u001b[49m\u001b[38;5;124;43m'\u001b[39;49m\u001b[38;5;124;43mPic.jpg\u001b[39;49m\u001b[38;5;124;43m'\u001b[39;49m\u001b[43m)\u001b[49m\n\u001b[0;32m      6\u001b[0m \u001b[38;5;28mprint\u001b[39m(\u001b[38;5;124mf\u001b[39m\u001b[38;5;124m'\u001b[39m\u001b[38;5;124mWidth, Height -> \u001b[39m\u001b[38;5;132;01m{\u001b[39;00mpic\u001b[38;5;241m.\u001b[39msize\u001b[38;5;132;01m}\u001b[39;00m\u001b[38;5;124m'\u001b[39m) \u001b[38;5;66;03m# Approach 1\u001b[39;00m\n\u001b[0;32m      7\u001b[0m \u001b[38;5;28mprint\u001b[39m(\u001b[38;5;124mf\u001b[39m\u001b[38;5;124m'\u001b[39m\u001b[38;5;124mWidth, Height -> \u001b[39m\u001b[38;5;132;01m{\u001b[39;00mpic\u001b[38;5;241m.\u001b[39mwidth\u001b[38;5;132;01m}\u001b[39;00m\u001b[38;5;124m,\u001b[39m\u001b[38;5;132;01m{\u001b[39;00mpic\u001b[38;5;241m.\u001b[39mheight\u001b[38;5;132;01m}\u001b[39;00m\u001b[38;5;124m'\u001b[39m) \u001b[38;5;66;03m# Approach 2\u001b[39;00m\n",
      "File \u001b[1;32mC:\\ProgramData\\Anaconda3\\lib\\site-packages\\PIL\\Image.py:2953\u001b[0m, in \u001b[0;36mopen\u001b[1;34m(fp, mode, formats)\u001b[0m\n\u001b[0;32m   2950\u001b[0m     filename \u001b[38;5;241m=\u001b[39m fp\n\u001b[0;32m   2952\u001b[0m \u001b[38;5;28;01mif\u001b[39;00m filename:\n\u001b[1;32m-> 2953\u001b[0m     fp \u001b[38;5;241m=\u001b[39m \u001b[43mbuiltins\u001b[49m\u001b[38;5;241;43m.\u001b[39;49m\u001b[43mopen\u001b[49m\u001b[43m(\u001b[49m\u001b[43mfilename\u001b[49m\u001b[43m,\u001b[49m\u001b[43m \u001b[49m\u001b[38;5;124;43m\"\u001b[39;49m\u001b[38;5;124;43mrb\u001b[39;49m\u001b[38;5;124;43m\"\u001b[39;49m\u001b[43m)\u001b[49m\n\u001b[0;32m   2954\u001b[0m     exclusive_fp \u001b[38;5;241m=\u001b[39m \u001b[38;5;28;01mTrue\u001b[39;00m\n\u001b[0;32m   2956\u001b[0m \u001b[38;5;28;01mtry\u001b[39;00m:\n",
      "\u001b[1;31mFileNotFoundError\u001b[0m: [Errno 2] No such file or directory: 'Pic.jpg'"
     ]
    }
   ],
   "source": [
    "Q.4. Use your image and load in notebook then, How can you find out \n",
    "the width and height of an Image object?\n",
    "Answer:- open() is used to open the image and then . width and . height property of Image are used to get the height and width of the image.\n",
    "#Example Program\n",
    "from PIL import Image\n",
    "pic = Image.open('Pic.jpg')\n",
    "print(f'Width, Height -> {pic.size}') # Approach 1\n",
    "print(f'Width, Height -> {pic.width},{pic.height}') # Approach 2\n",
    "width,height = pic.size\n",
    "print(f'Width, Height -> {width},{height}') # Approach 3"
   ]
  },
  {
   "cell_type": "code",
   "execution_count": 4,
   "id": "b12fed28",
   "metadata": {},
   "outputs": [],
   "source": [
    "Q.5. What method would you call to get Image object for a 100×100 image, \n",
    "excluding the lower-left quarter of it?\n",
    "Answer:-\n",
    "from PIL import Image\n",
    "img = Image.open('Pic.jpg')\n",
    "new_img = img.crop((0,50,50,50))"
   ]
  },
  {
   "cell_type": "code",
   "execution_count": null,
   "id": "8b8283de",
   "metadata": {},
   "outputs": [],
   "source": [
    "6. After making changes to an Image object, how could you save it as an image file?\n",
    "#Example Program\n",
    "from PIL import Image\n",
    "pic = Image.open('pic.jpg')\n",
    "pic.save('pic2.jpg')"
   ]
  },
  {
   "cell_type": "code",
   "execution_count": null,
   "id": "beedc4e1",
   "metadata": {},
   "outputs": [],
   "source": [
    "Q.7. What module contains Pillow’s shape-drawing code?\n",
    "Ans: Pillows ImageDraw module contains Shape drawing methods"
   ]
  },
  {
   "cell_type": "code",
   "execution_count": null,
   "id": "059b50ac",
   "metadata": {},
   "outputs": [],
   "source": [
    "Q.8. Image objects do not have drawing methods. What kind of object does?\n",
    "How do you get this kind of object?\n",
    "Ans: ImageDraw objects have shape-drawing methods such as point(),\n",
    "    line(), or rectangle().They are returned by passing the Image \n",
    "    object to the ImageDraw.Draw() function"
   ]
  }
 ],
 "metadata": {
  "kernelspec": {
   "display_name": "Python 3 (ipykernel)",
   "language": "python",
   "name": "python3"
  },
  "language_info": {
   "codemirror_mode": {
    "name": "ipython",
    "version": 3
   },
   "file_extension": ".py",
   "mimetype": "text/x-python",
   "name": "python",
   "nbconvert_exporter": "python",
   "pygments_lexer": "ipython3",
   "version": "3.9.12"
  }
 },
 "nbformat": 4,
 "nbformat_minor": 5
}
